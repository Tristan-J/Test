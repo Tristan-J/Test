{
 "cells": [
  {
   "cell_type": "code",
   "execution_count": 11,
   "metadata": {},
   "outputs": [],
   "source": [
    "import os\n",
    "from os import path\n",
    "import torch\n",
    "from torch.utils.data import DataLoader\n",
    "\n",
    "from tqdm.notebook import tqdm\n",
    "\n",
    "import matplotlib.pyplot as plt"
   ]
  },
  {
   "cell_type": "code",
   "execution_count": 26,
   "metadata": {
    "scrolled": false
   },
   "outputs": [
    {
     "data": {
      "application/vnd.jupyter.widget-view+json": {
       "model_id": "2be80d4fd2344ad988ffd82b46e0bc7d",
       "version_major": 2,
       "version_minor": 0
      },
      "text/plain": [
       "HBox(children=(FloatProgress(value=1.0, bar_style='info', max=1.0), HTML(value='')))"
      ]
     },
     "metadata": {},
     "output_type": "display_data"
    },
    {
     "name": "stdout",
     "output_type": "stream",
     "text": [
      "torch.Size([4, 3, 512, 512])\n"
     ]
    }
   ],
   "source": [
    "from torch.utils.data import Dataset\n",
    "import cv2\n",
    "\n",
    "class PortraitDataset(Dataset):\n",
    "    def __init__(self, root_dir, mode):\n",
    "        self.root_dir = root_dir\n",
    "        self.train_dir = path.join(root_dir, 'train')\n",
    "        self.train_videos = os.listdir(self.train_dir)\n",
    "        self.test_dir = path.join(root_dir, 'test')\n",
    "        self.test_videos = os.listdir(self.test_dir)\n",
    "        \n",
    "        if mode == 'train':\n",
    "            self.root_dir = self.train_dir\n",
    "            self.videos = self.train_videos\n",
    "        elif mode == 'test':\n",
    "            self.root_dir = self.test_dir\n",
    "            self.videos = self.test_videos\n",
    "            \n",
    "    def __len__(self):\n",
    "        return len(self.videos)\n",
    "    \n",
    "    def __getitem__(self, idx):\n",
    "        v_name = self.videos[idx]\n",
    "        v_path = path.join(self.root_dir, v_name)\n",
    "        out = {\n",
    "            'portrait': cv2.imread(v_path).transpose((2,0,1)),\n",
    "            'label': 0 if 'cat' in v_name else 1\n",
    "        }\n",
    "        return out\n",
    "\n",
    "dataset = PortraitDataset('data/cat-dog', 'train')\n",
    "dataloader = DataLoader(dataset, batch_size=4, shuffle=True, num_workers=1, drop_last=True)\n",
    "\n",
    "for i, x in tqdm(enumerate(dataloader)):\n",
    "    print((x['portrait'].shape))\n",
    "    break\n"
   ]
  },
  {
   "cell_type": "code",
   "execution_count": null,
   "metadata": {},
   "outputs": [],
   "source": []
  },
  {
   "cell_type": "code",
   "execution_count": null,
   "metadata": {},
   "outputs": [],
   "source": []
  },
  {
   "cell_type": "code",
   "execution_count": null,
   "metadata": {},
   "outputs": [],
   "source": []
  }
 ],
 "metadata": {
  "kernelspec": {
   "display_name": "Python 3",
   "language": "python",
   "name": "python3"
  },
  "language_info": {
   "codemirror_mode": {
    "name": "ipython",
    "version": 3
   },
   "file_extension": ".py",
   "mimetype": "text/x-python",
   "name": "python",
   "nbconvert_exporter": "python",
   "pygments_lexer": "ipython3",
   "version": "3.7.6"
  }
 },
 "nbformat": 4,
 "nbformat_minor": 4
}
