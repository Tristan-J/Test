{
 "cells": [
  {
   "cell_type": "code",
   "execution_count": 2,
   "metadata": {},
   "outputs": [],
   "source": [
    "import torch\n",
    "from torch import nn\n",
    "import torchvision\n",
    "import torchvision.transforms as transforms\n",
    "import numpy as np\n",
    "import matplotlib.pyplot as plt \n",
    "import pandas as pd "
   ]
  },
  {
   "cell_type": "markdown",
   "metadata": {},
   "source": [
    "## Settings"
   ]
  },
  {
   "cell_type": "code",
   "execution_count": 3,
   "metadata": {},
   "outputs": [],
   "source": [
    "data_dir = \"./data/cat-dog\"\n",
    "batch_size = 4\n",
    "img_edge = 512"
   ]
  },
  {
   "cell_type": "markdown",
   "metadata": {},
   "source": [
    "## Utils"
   ]
  },
  {
   "cell_type": "code",
   "execution_count": 4,
   "metadata": {},
   "outputs": [],
   "source": [
    "import random\n",
    "\n",
    "def flip_lr(x): \n",
    "# horizontal flip transformation\n",
    "    if random.random()>0.5:\n",
    "        x = np.fliplr(x).copy()\n",
    "#     return torch.from_numpy(x)\n",
    "    return x"
   ]
  },
  {
   "cell_type": "markdown",
   "metadata": {},
   "source": [
    "## Dataset"
   ]
  },
  {
   "cell_type": "code",
   "execution_count": 5,
   "metadata": {},
   "outputs": [],
   "source": [
    "from torch.utils.data import Dataset\n",
    "from skimage import io, img_as_float32\n",
    "import os\n",
    "\n",
    "class CatDogDataset(Dataset):\n",
    "    def __init__(self, data_dir, is_train=False, transform=None):\n",
    "        self.data_dir = data_dir\n",
    "        self.is_train = is_train\n",
    "        if is_train:\n",
    "            self.data_dir = os.path.join(data_dir, \"train\")\n",
    "        else:\n",
    "            self.data_dir = os.path.join(data_dir, \"test\")\n",
    "        self.img_ids = os.listdir(self.data_dir)\n",
    "        self.transform = transform\n",
    "            \n",
    "    def __len__(self):\n",
    "        return len(self.img_ids)\n",
    "    \n",
    "    def __getitem__(self, idx):\n",
    "        img_id = self.img_ids[idx]\n",
    "        img_p = os.path.join(self.data_dir, img_id)\n",
    "        img = img_as_float32(io.imread(img_p)).transpose((2,0,1))\n",
    "        if self.transform is not None:\n",
    "            img = self.transform(img)\n",
    "        \n",
    "        out = {}\n",
    "        out['name'] = img_id\n",
    "        if self.is_train:\n",
    "            out['img'] = img\n",
    "            out['label'] = 0 if img_id.split(\"_\")[1]=='cat' else 1\n",
    "        else:\n",
    "            out['img'] = img\n",
    "            out['label'] = 0 if img_id.split(\"_\")[1]=='cat' else 1\n",
    "        \n",
    "        return out"
   ]
  },
  {
   "cell_type": "code",
   "execution_count": 6,
   "metadata": {},
   "outputs": [
    {
     "name": "stdout",
     "output_type": "stream",
     "text": [
      "['flickr_cat_000083.jpg', 'flickr_cat_000002.jpg', 'flickr_dog_000073.jpg', 'flickr_dog_000085.jpg']\n",
      "tensor([0, 0, 1, 1])\n",
      "torch.Size([4, 3, 512, 512])\n"
     ]
    }
   ],
   "source": [
    "from torch.utils.data import DataLoader\n",
    "dataset = CatDogDataset(data_dir, is_train=True, transform=flip_lr)\n",
    "dataloader = DataLoader(dataset, batch_size=batch_size, shuffle=True, num_workers=0, drop_last=True)\n",
    "for x_i, x in enumerate(dataloader):\n",
    "    print(x['name'])\n",
    "    print(x['label'])\n",
    "    print(x['img'].shape)\n",
    "    break"
   ]
  },
  {
   "cell_type": "markdown",
   "metadata": {},
   "source": [
    "## Model"
   ]
  },
  {
   "cell_type": "code",
   "execution_count": 21,
   "metadata": {},
   "outputs": [
    {
     "ename": "AttributeError",
     "evalue": "'dict' object has no attribute 'cuda'",
     "output_type": "error",
     "traceback": [
      "\u001b[0;31m---------------------------------------------------------------------------\u001b[0m",
      "\u001b[0;31mAttributeError\u001b[0m                            Traceback (most recent call last)",
      "\u001b[0;32m<ipython-input-21-439e77d8b42c>\u001b[0m in \u001b[0;36m<module>\u001b[0;34m\u001b[0m\n\u001b[1;32m     39\u001b[0m \u001b[0;34m\u001b[0m\u001b[0m\n\u001b[1;32m     40\u001b[0m \u001b[0;32mfor\u001b[0m \u001b[0mx_i\u001b[0m\u001b[0;34m,\u001b[0m \u001b[0mx\u001b[0m \u001b[0;32min\u001b[0m \u001b[0menumerate\u001b[0m\u001b[0;34m(\u001b[0m\u001b[0mdataloader\u001b[0m\u001b[0;34m)\u001b[0m\u001b[0;34m:\u001b[0m\u001b[0;34m\u001b[0m\u001b[0;34m\u001b[0m\u001b[0m\n\u001b[0;32m---> 41\u001b[0;31m     \u001b[0mx\u001b[0m\u001b[0;34m.\u001b[0m\u001b[0mcuda\u001b[0m\u001b[0;34m(\u001b[0m\u001b[0;34m)\u001b[0m\u001b[0;34m\u001b[0m\u001b[0;34m\u001b[0m\u001b[0m\n\u001b[0m\u001b[1;32m     42\u001b[0m     \u001b[0mprint\u001b[0m\u001b[0;34m(\u001b[0m\u001b[0mx\u001b[0m\u001b[0;34m[\u001b[0m\u001b[0;34m'img'\u001b[0m\u001b[0;34m]\u001b[0m\u001b[0;34m.\u001b[0m\u001b[0mshape\u001b[0m\u001b[0;34m,\u001b[0m \u001b[0mdiscriminator\u001b[0m\u001b[0;34m(\u001b[0m\u001b[0mx\u001b[0m\u001b[0;34m[\u001b[0m\u001b[0;34m'img'\u001b[0m\u001b[0;34m]\u001b[0m\u001b[0;34m,\u001b[0m \u001b[0;36m1\u001b[0m\u001b[0;34m)\u001b[0m\u001b[0;34m.\u001b[0m\u001b[0mshape\u001b[0m\u001b[0;34m)\u001b[0m\u001b[0;34m\u001b[0m\u001b[0;34m\u001b[0m\u001b[0m\n\u001b[1;32m     43\u001b[0m     \u001b[0;32mbreak\u001b[0m\u001b[0;34m\u001b[0m\u001b[0;34m\u001b[0m\u001b[0m\n",
      "\u001b[0;31mAttributeError\u001b[0m: 'dict' object has no attribute 'cuda'"
     ]
    }
   ],
   "source": [
    "class ClassifyCatDog(nn.Module):\n",
    "    def __init__(self):\n",
    "        super(ClassifyCatDog, self).__init__()\n",
    "        # Encoder\n",
    "        self.encoder = nn.ModuleList()\n",
    "        self.encoder.append(nn.Conv2d(in_channels=3, out_channels=64, kernel_size=3, stride=1, padding=1))\n",
    "        self.encoder.append(nn.ReLU())\n",
    "        self.encoder.append(nn.Conv2d(64, 64, 3, stride=1, padding=1))\n",
    "        self.encoder.append(nn.ReLU())\n",
    "        self.encoder.append(nn.MaxPool2d(2, 2))\n",
    "        # Decoder 1\n",
    "        self.decoder_1 = nn.ModuleList()\n",
    "        self.decoder_1.append(nn.Conv2d(64, 3, 3, stride=1, padding=1))\n",
    "        self.decoder_1.append(nn.ReLU())\n",
    "        self.decoder_1.append(nn.Conv2d(3, 3, 3, stride=1, padding=1))\n",
    "        self.decoder_1.append(nn.ReLU())\n",
    "        # Decoder 2\n",
    "        self.decoder_2 = nn.ModuleList()\n",
    "        self.decoder_2.append(nn.Conv2d(64, 8, 3, stride=1, padding=1))\n",
    "        self.decoder_2.append(nn.ReLU())\n",
    "        self.decoder_2.append(nn.Conv2d(8, 1, 3, stride=1, padding=1))\n",
    "        self.decoder_2.append(nn.ReLU())\n",
    "    def forward(self, x, d_idx):\n",
    "    # n*512*512*3\n",
    "        for layer in self.encoder:\n",
    "            x = layer(x)\n",
    "        if d_idx == 1:\n",
    "            for layer in self.decoder_1:\n",
    "                x = layer(x)\n",
    "        elif d_idx == 2:\n",
    "            for layer in self.decoder_2:\n",
    "                x = layer(x)\n",
    "        return x\n",
    "\n",
    "discriminator = ClassifyCatDog()\n",
    "if torch.cuda.is_available():\n",
    "    discriminator.cuda()\n",
    "\n",
    "for x_i, x in enumerate(dataloader):\n",
    "    x.cuda()\n",
    "    print(x['img'].shape, discriminator(x['img'], 1).shape)\n",
    "    break"
   ]
  },
  {
   "cell_type": "markdown",
   "metadata": {},
   "source": [
    "## Train loop"
   ]
  },
  {
   "cell_type": "code",
   "execution_count": 137,
   "metadata": {},
   "outputs": [
    {
     "name": "stdout",
     "output_type": "stream",
     "text": [
      "9\n",
      "19\n",
      "29\n",
      "39\n",
      "9\n",
      "19\n",
      "29\n",
      "39\n",
      "9\n",
      "19\n",
      "29\n",
      "39\n",
      "9\n",
      "19\n",
      "29\n",
      "39\n",
      "9\n",
      "19\n",
      "29\n",
      "39\n",
      "9\n",
      "19\n",
      "29\n",
      "39\n",
      "9\n",
      "19\n",
      "29\n",
      "39\n",
      "9\n",
      "19\n",
      "29\n",
      "39\n",
      "9\n",
      "19\n",
      "29\n",
      "39\n",
      "9\n",
      "19\n",
      "29\n",
      "39\n"
     ]
    }
   ],
   "source": [
    "for epoch in range(10):\n",
    "    for x_i, x in enumerate(dataloader):\n",
    "        if x_i%10==9:\n",
    "            print(x_i)"
   ]
  },
  {
   "cell_type": "code",
   "execution_count": null,
   "metadata": {},
   "outputs": [],
   "source": []
  }
 ],
 "metadata": {
  "kernelspec": {
   "display_name": "Python 3",
   "language": "python",
   "name": "python3"
  },
  "language_info": {
   "codemirror_mode": {
    "name": "ipython",
    "version": 3
   },
   "file_extension": ".py",
   "mimetype": "text/x-python",
   "name": "python",
   "nbconvert_exporter": "python",
   "pygments_lexer": "ipython3",
   "version": "3.7.6"
  }
 },
 "nbformat": 4,
 "nbformat_minor": 4
}
