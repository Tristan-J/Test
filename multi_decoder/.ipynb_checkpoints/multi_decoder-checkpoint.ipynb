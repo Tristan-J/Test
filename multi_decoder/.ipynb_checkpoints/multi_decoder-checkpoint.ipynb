{
 "cells": [
  {
   "cell_type": "code",
   "execution_count": 1,
   "metadata": {},
   "outputs": [],
   "source": [
    "import torch\n",
    "from torch import nn\n",
    "import torchvision\n",
    "import torchvision.transforms as transforms\n",
    "import numpy as np\n",
    "import matplotlib.pyplot as plt \n",
    "import pandas as pd "
   ]
  },
  {
   "cell_type": "markdown",
   "metadata": {},
   "source": [
    "## Settings"
   ]
  },
  {
   "cell_type": "code",
   "execution_count": 2,
   "metadata": {},
   "outputs": [],
   "source": [
    "data_dir = \"./data/cat-dog\"\n",
    "batch_size = 4\n",
    "img_edge = 512"
   ]
  },
  {
   "cell_type": "markdown",
   "metadata": {},
   "source": [
    "## Utils"
   ]
  },
  {
   "cell_type": "code",
   "execution_count": 3,
   "metadata": {},
   "outputs": [],
   "source": [
    "import random\n",
    "\n",
    "def flip_lr(x): \n",
    "# horizontal flip transformation\n",
    "    if random.random()>0.5:\n",
    "        x = np.fliplr(x).copy()\n",
    "#     return torch.from_numpy(x)\n",
    "    return x"
   ]
  },
  {
   "cell_type": "markdown",
   "metadata": {},
   "source": [
    "## Dataset"
   ]
  },
  {
   "cell_type": "code",
   "execution_count": 17,
   "metadata": {},
   "outputs": [],
   "source": [
    "from torch.utils.data import Dataset\n",
    "from skimage import io, img_as_float32\n",
    "import os\n",
    "\n",
    "class CatDogDataset(Dataset):\n",
    "    def __init__(self, data_dir, is_train=False, transform=None):\n",
    "        self.data_dir = data_dir\n",
    "        self.is_train = is_train\n",
    "        if is_train:\n",
    "            self.data_dir = os.path.join(data_dir, \"train\")\n",
    "        else:\n",
    "            self.data_dir = os.path.join(data_dir, \"test\")\n",
    "        self.img_ids = os.listdir(self.data_dir)\n",
    "        self.transform = transform\n",
    "            \n",
    "    def __len__(self):\n",
    "        return len(self.img_ids)\n",
    "    \n",
    "    def __getitem__(self, idx):\n",
    "        img_id = self.img_ids[idx]\n",
    "        img_p = os.path.join(self.data_dir, img_id)\n",
    "        img = img_as_float32(io.imread(img_p)).transpose((2,0,1))\n",
    "        if self.transform is not None:\n",
    "            img = self.transform(img)\n",
    "        \n",
    "        out = {}\n",
    "        out['name'] = img_id\n",
    "        if self.is_train:\n",
    "            out['img'] = img\n",
    "            out['label'] = [1, 0] if img_id.split(\"_\")[1]=='cat' else [0, 1]\n",
    "        else:\n",
    "            out['img'] = img\n",
    "            out['label'] = [1, 0] if img_id.split(\"_\")[1]=='cat' else [0, 1]\n",
    "        \n",
    "        return out"
   ]
  },
  {
   "cell_type": "code",
   "execution_count": 18,
   "metadata": {},
   "outputs": [
    {
     "name": "stdout",
     "output_type": "stream",
     "text": [
      "['flickr_cat_000036.jpg', 'flickr_cat_000012.jpg', 'flickr_cat_000007.jpg', 'flickr_dog_000072.jpg']\n",
      "[tensor([1, 1, 1, 0]), tensor([0, 0, 0, 1])]\n",
      "torch.Size([4, 3, 512, 512])\n"
     ]
    }
   ],
   "source": [
    "from torch.utils.data import DataLoader\n",
    "dataset = CatDogDataset(data_dir, is_train=True, transform=flip_lr)\n",
    "dataloader = DataLoader(dataset, batch_size=batch_size, shuffle=True, num_workers=0, drop_last=True)\n",
    "for x_i, x in enumerate(dataloader):\n",
    "    print(x['name'])\n",
    "    print(x['label'])\n",
    "    print(x['img'].shape)\n",
    "    break"
   ]
  },
  {
   "cell_type": "markdown",
   "metadata": {},
   "source": [
    "## Model"
   ]
  },
  {
   "cell_type": "code",
   "execution_count": 13,
   "metadata": {
    "scrolled": true
   },
   "outputs": [
    {
     "name": "stdout",
     "output_type": "stream",
     "text": [
      "torch.Size([4, 3, 256, 256])\n"
     ]
    }
   ],
   "source": [
    "class ClassifyCatDog(nn.Module):\n",
    "    def __init__(self):\n",
    "        super(ClassifyCatDog, self).__init__()\n",
    "        # Encoder\n",
    "        self.encoder = nn.ModuleList()\n",
    "        self.encoder.append(nn.Conv2d(in_channels=3, out_channels=4, kernel_size=3, stride=1, padding=1))\n",
    "        self.encoder.append(nn.ReLU())\n",
    "        self.encoder.append(nn.MaxPool2d(8, 8))\n",
    "        self.encoder.append(nn.Conv2d(4, 4, 3, stride=1, padding=1))\n",
    "        self.encoder.append(nn.ReLU())\n",
    "        self.encoder.append(nn.MaxPool2d(8, 8))\n",
    "        # Decoder 1\n",
    "        self.decoder_1 = nn.ModuleList()\n",
    "        self.decoder_1.append(nn.Conv2d(4, 3, 3, stride=1, padding=1))\n",
    "        self.decoder_1.append(nn.ReLU())\n",
    "        self.decoder_1.append(nn.MaxPool2d(4, 4))\n",
    "        # Decoder 2\n",
    "        self.decoder_2 = nn.ModuleList()\n",
    "        self.decoder_2.append(nn.Conv2d(4, 3, 3, stride=1, padding=1))\n",
    "        self.decoder_2.append(nn.ReLU())\n",
    "        self.decoder_2.append(nn.MaxPool2d(4, 4))\n",
    "        # Classifier\n",
    "        self.classifier = nn.ModuleList()\n",
    "        self.classifier.append(nn.Linear(3*8*8, 16))\n",
    "        self.classifier.append(nn.ReLU())\n",
    "        self.classifier.append(nn.Linear(16, 2))\n",
    "    def forward(self, x, d_idx):\n",
    "        # n*512*512*3\n",
    "        # Encoder\n",
    "        for layer in self.encoder:\n",
    "            x = layer(x)\n",
    "        # Decoder\n",
    "        if d_idx == 1:\n",
    "            for layer in self.decoder_1:\n",
    "                x = layer(x)\n",
    "        elif d_idx == 2:\n",
    "            for layer in self.decoder_2:\n",
    "                x = layer(x)\n",
    "        # Classifier\n",
    "        for layer in self.classifier:\n",
    "            x = layer(x)\n",
    "        return x\n",
    "\n",
    "    \n",
    "discriminator = ClassifyCatDog()\n",
    "if torch.cuda.is_available():\n",
    "    discriminator = discriminator.cuda()\n",
    "\n",
    "import torch.optim as optim\n",
    "criterion = nn.CrossEntropyLoss()\n",
    "optimizer_ec = optim.Adam(discriminator.encoder.parameters(), lr=0.01, betas=(0.9, 0.999))\n",
    "optimizer_dc_1 = optim.Adam(discriminator.decoder_1.parameters(), lr=0.01, betas=(0.9, 0.999))\n",
    "optimizer_dc_2 = optim.Adam(discriminator.decoder_2.parameters(), lr=0.01, betas=(0.9, 0.999))\n",
    "optimizer_cl = optim.Adam(discriminator.classifier.parameters(), lr=0.01, betas=(0.9, 0.999))\n",
    "\n",
    "for x_i, x in enumerate(dataloader):\n",
    "    imgs   = x['img']\n",
    "    labels = x['label']\n",
    "    imgs   = imgs.cuda()\n",
    "    labels = labels.cuda()\n",
    "    \n",
    "    y  = discriminator(imgs, x_i//2+1)\n",
    "    loss = criterion(y, label)\n",
    "    loss.backward()\n",
    "    \n",
    "    print(discriminator.encoder.parameters())\n",
    "    optimizer_ec.step()\n",
    "    optimizer_ec.zero_grad()\n",
    "    \n",
    "    \n",
    "    \n",
    "    break"
   ]
  },
  {
   "cell_type": "code",
   "execution_count": 16,
   "metadata": {},
   "outputs": [
    {
     "name": "stdout",
     "output_type": "stream",
     "text": [
      "<generator object Module.parameters at 0x7f07e7932950>\n"
     ]
    }
   ],
   "source": [
    "print(discriminator.parameters())"
   ]
  },
  {
   "cell_type": "markdown",
   "metadata": {},
   "source": [
    "## Train loop"
   ]
  },
  {
   "cell_type": "code",
   "execution_count": 137,
   "metadata": {},
   "outputs": [
    {
     "name": "stdout",
     "output_type": "stream",
     "text": [
      "9\n",
      "19\n",
      "29\n",
      "39\n",
      "9\n",
      "19\n",
      "29\n",
      "39\n",
      "9\n",
      "19\n",
      "29\n",
      "39\n",
      "9\n",
      "19\n",
      "29\n",
      "39\n",
      "9\n",
      "19\n",
      "29\n",
      "39\n",
      "9\n",
      "19\n",
      "29\n",
      "39\n",
      "9\n",
      "19\n",
      "29\n",
      "39\n",
      "9\n",
      "19\n",
      "29\n",
      "39\n",
      "9\n",
      "19\n",
      "29\n",
      "39\n",
      "9\n",
      "19\n",
      "29\n",
      "39\n"
     ]
    }
   ],
   "source": [
    "for epoch in range(10):\n",
    "    for x_i, x in enumerate(dataloader):\n",
    "        if x_i%10==9:\n",
    "            print(x_i)"
   ]
  },
  {
   "cell_type": "code",
   "execution_count": null,
   "metadata": {},
   "outputs": [],
   "source": []
  }
 ],
 "metadata": {
  "kernelspec": {
   "display_name": "Python 3",
   "language": "python",
   "name": "python3"
  },
  "language_info": {
   "codemirror_mode": {
    "name": "ipython",
    "version": 3
   },
   "file_extension": ".py",
   "mimetype": "text/x-python",
   "name": "python",
   "nbconvert_exporter": "python",
   "pygments_lexer": "ipython3",
   "version": "3.7.6"
  }
 },
 "nbformat": 4,
 "nbformat_minor": 4
}
